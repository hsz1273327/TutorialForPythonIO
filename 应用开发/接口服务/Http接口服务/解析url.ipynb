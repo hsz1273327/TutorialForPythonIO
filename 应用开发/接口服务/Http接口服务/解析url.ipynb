{
 "cells": [
  {
   "cell_type": "markdown",
   "metadata": {},
   "source": [
    "# url分析工具(purl)\n",
    "\n",
    "url是web上指定内容的地址,它基本可以分为几个部分\n",
    "\n",
    "+ scheme 协议路径,比如http,https等\n",
    "+ host 主机名,比如`www.baidu.com`这样\n",
    "+ path 主机下内容具体所在的路劲\n",
    "+ query_params 在url中作为参数传入路径的内容\n",
    "\n",
    "[purl](https://github.com/codeinthehole/purl)是一个简单好用的url分解工具,用它可以方便的获取一段url的各部分内容\n",
    "\n",
    "安装:\n",
    "\n",
    "    pip install purl\n",
    "    \n",
    "    "
   ]
  },
  {
   "cell_type": "markdown",
   "metadata": {},
   "source": [
    "使用:"
   ]
  },
  {
   "cell_type": "code",
   "execution_count": 1,
   "metadata": {
    "collapsed": true
   },
   "outputs": [],
   "source": [
    "url = \"https://www.baidu.com/s?ie=utf-8&f=8&rsv_bp=0&rsv_idx=1&tn=baidu&wd=newbee&rsv_pq=c87beda3000c6192&rsv_t=69e1zt6mVNzkBbdJDmwMn6Q%2FanmE7t9awTdR05ddZ2dL0Sxnf9BuLA3TB3g&rsv_enter=1&rsv_sug3=8&rsv_sug1=10&rsv_sug7=100\""
   ]
  },
  {
   "cell_type": "code",
   "execution_count": 2,
   "metadata": {
    "collapsed": true
   },
   "outputs": [],
   "source": [
    "from purl import URL"
   ]
  },
  {
   "cell_type": "code",
   "execution_count": 3,
   "metadata": {
    "collapsed": true
   },
   "outputs": [],
   "source": [
    "from_str = URL(url)"
   ]
  },
  {
   "cell_type": "code",
   "execution_count": 4,
   "metadata": {
    "scrolled": true
   },
   "outputs": [
    {
     "data": {
      "text/plain": [
       "'https'"
      ]
     },
     "execution_count": 4,
     "metadata": {},
     "output_type": "execute_result"
    }
   ],
   "source": [
    "from_str.scheme()"
   ]
  },
  {
   "cell_type": "code",
   "execution_count": 5,
   "metadata": {},
   "outputs": [
    {
     "data": {
      "text/plain": [
       "'www.baidu.com'"
      ]
     },
     "execution_count": 5,
     "metadata": {},
     "output_type": "execute_result"
    }
   ],
   "source": [
    "from_str.host()"
   ]
  },
  {
   "cell_type": "code",
   "execution_count": 6,
   "metadata": {},
   "outputs": [
    {
     "data": {
      "text/plain": [
       "'ie=utf-8&f=8&rsv_bp=0&rsv_idx=1&tn=baidu&wd=newbee&rsv_pq=c87beda3000c6192&rsv_t=69e1zt6mVNzkBbdJDmwMn6Q%2FanmE7t9awTdR05ddZ2dL0Sxnf9BuLA3TB3g&rsv_enter=1&rsv_sug3=8&rsv_sug1=10&rsv_sug7=100'"
      ]
     },
     "execution_count": 6,
     "metadata": {},
     "output_type": "execute_result"
    }
   ],
   "source": [
    "from_str.query()"
   ]
  },
  {
   "cell_type": "code",
   "execution_count": 7,
   "metadata": {},
   "outputs": [
    {
     "data": {
      "text/plain": [
       "{'f': ['8'],\n",
       " 'ie': ['utf-8'],\n",
       " 'rsv_bp': ['0'],\n",
       " 'rsv_enter': ['1'],\n",
       " 'rsv_idx': ['1'],\n",
       " 'rsv_pq': ['c87beda3000c6192'],\n",
       " 'rsv_sug1': ['10'],\n",
       " 'rsv_sug3': ['8'],\n",
       " 'rsv_sug7': ['100'],\n",
       " 'rsv_t': ['69e1zt6mVNzkBbdJDmwMn6Q/anmE7t9awTdR05ddZ2dL0Sxnf9BuLA3TB3g'],\n",
       " 'tn': ['baidu'],\n",
       " 'wd': ['newbee']}"
      ]
     },
     "execution_count": 7,
     "metadata": {},
     "output_type": "execute_result"
    }
   ],
   "source": [
    "from_str.query_params()"
   ]
  },
  {
   "cell_type": "code",
   "execution_count": 8,
   "metadata": {},
   "outputs": [
    {
     "data": {
      "text/plain": [
       "'8'"
      ]
     },
     "execution_count": 8,
     "metadata": {},
     "output_type": "execute_result"
    }
   ],
   "source": [
    "from_str.query_param(\"f\")"
   ]
  }
 ],
 "metadata": {
  "anaconda-cloud": {},
  "kernelspec": {
   "display_name": "Python 3",
   "language": "python",
   "name": "python3"
  },
  "language_info": {
   "codemirror_mode": {
    "name": "ipython",
    "version": 3
   },
   "file_extension": ".py",
   "mimetype": "text/x-python",
   "name": "python",
   "nbconvert_exporter": "python",
   "pygments_lexer": "ipython3",
   "version": "3.7.2"
  }
 },
 "nbformat": 4,
 "nbformat_minor": 1
}
