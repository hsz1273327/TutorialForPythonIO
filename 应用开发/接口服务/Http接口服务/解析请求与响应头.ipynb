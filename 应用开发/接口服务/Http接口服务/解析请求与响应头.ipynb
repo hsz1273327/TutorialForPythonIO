{
 "cells": [
  {
   "cell_type": "markdown",
   "metadata": {},
   "source": [
    "# 用httptools解析请求和响应头\n",
    "\n",
    "[httptools](https://github.com/MagicStack/httptools)是一个由cython写成的http解析工具.可以用于解析http请求和响应的参数.他们接口类似用法类似,本处以解析请求头部作为例子.\n",
    "\n",
    "httptools通过注册回调函数来解析"
   ]
  },
  {
   "cell_type": "code",
   "execution_count": 1,
   "metadata": {},
   "outputs": [],
   "source": [
    "import httptools"
   ]
  },
  {
   "cell_type": "code",
   "execution_count": 2,
   "metadata": {
    "collapsed": true
   },
   "outputs": [],
   "source": [
    "head = b'''GET / HTTP/1.1\n",
    "Host: github.com\n",
    "Connection: keep-alive\n",
    "Cache-Control: max-age=0\n",
    "Upgrade-Insecure-Requests: 1\n",
    "User-Agent: Mozilla/5.0 (Macintosh; Intel Mac OS X 10_11_6) AppleWebKit/537.36 (KHTML, like Gecko) Chrome/58.0.3029.110 Safari/537.36\n",
    "Accept: text/html,application/xhtml+xml,application/xml;q=0.9,image/webp,*/*;q=0.8\n",
    "Accept-Encoding: gzip, deflate, sdch, br\n",
    "Accept-Language: zh-CN,zh;q=0.8,zh-TW;q=0.6,fr;q=0.4,en;q=0.2,ja;q=0.2\n",
    "Cookie: _octo=GH1.1.1989111283.1493917476; logged_in=yes; dotcom_user=hsz1273327; _gat=1; user_session=mrt4FoCQYKoRaeE7L3ZwWyGJiJHfA2SFq3C0BgftZ2tFrep9; __Host-user_session_same_site=mrt4FoCQYKoRaeE7L3ZwWyGJiJHfA2SFq3C0BgftZ2tFrep9; _gh_sess=eyJzZXNzaW9uX2lkIjoiMmVhYThhM2QxMDhiMjFiNzE5YjhjNGRlMTIyOTM2ZDIiLCJsYXN0X3JlYWRfZnJvbV9yZXBsaWNhcyI6MTQ5ODk3MTg4OTYyNCwiY29udGV4dCI6Ii8iLCJsYXN0X3dyaXRlIjoxNDk4OTIzMTgwNjQzLCJyZXR1cm5fdG8iOiIvcmJhcnJvaXMvZmFjdG9yeWJveSIsInNweV9yZXBvIjoiTWFnaWNTdGFjay9odHRwdG9vbHMiLCJzcHlfcmVwb19hdCI6MTQ5ODk3MTcyNSwiZmxhc2giOnsiZGlzY2FyZCI6WyJhbmFseXRpY3NfbG9jYXRpb24iXSwiZmxhc2hlcyI6eyJhbmFseXRpY3NfbG9jYXRpb24iOiIvZGFzaGJvYXJkIn19fQ%3D%3D--cc0fb066d6afd219a9483d1cb131a26c5608de88; _ga=GA1.2.442677063.1493917476; tz=Asia%2FShanghai\n",
    "'''"
   ]
  },
  {
   "cell_type": "code",
   "execution_count": 3,
   "metadata": {},
   "outputs": [],
   "source": [
    "class Protocol:\n",
    "    \n",
    "    def __init__(self):\n",
    "        self._header = {}\n",
    "        self._parser = httptools.HttpRequestParser(self)\n",
    "        self._total_request_size = 0\n",
    "        self.request_max_size = None\n",
    "    @property\n",
    "    def parser(self):\n",
    "        return self._parser\n",
    "    @property\n",
    "    def header(self):\n",
    "        return self._header\n",
    "    \n",
    "    \n",
    "    def data_received(self, data):\n",
    "        #self._parser = httptools.HttpRequestParser(self)\n",
    "        self.parser.feed_data(data)\n",
    "    def update_header(self,head):\n",
    "        print(head)\n",
    "        self._header.update(head)\n",
    "    def on_header(self,name, value):\n",
    "        m.update_header({name:value})\n",
    "    def on_headers_complete(self):\n",
    "        print(\"header complete\")\n",
    "    def on_body(self, body):\n",
    "        self._body = body\n",
    "    def on_message_complete(self):\n",
    "        print(\"message\")"
   ]
  },
  {
   "cell_type": "code",
   "execution_count": 4,
   "metadata": {},
   "outputs": [],
   "source": [
    "m = Protocol()"
   ]
  },
  {
   "cell_type": "code",
   "execution_count": 5,
   "metadata": {},
   "outputs": [
    {
     "name": "stdout",
     "output_type": "stream",
     "text": [
      "{b'Host': b'github.com'}\n",
      "{b'Connection': b'keep-alive'}\n",
      "{b'Cache-Control': b'max-age=0'}\n",
      "{b'Upgrade-Insecure-Requests': b'1'}\n",
      "{b'User-Agent': b'Mozilla/5.0 (Macintosh; Intel Mac OS X 10_11_6) AppleWebKit/537.36 (KHTML, like Gecko) Chrome/58.0.3029.110 Safari/537.36'}\n",
      "{b'Accept': b'text/html,application/xhtml+xml,application/xml;q=0.9,image/webp,*/*;q=0.8'}\n",
      "{b'Accept-Encoding': b'gzip, deflate, sdch, br'}\n",
      "{b'Accept-Language': b'zh-CN,zh;q=0.8,zh-TW;q=0.6,fr;q=0.4,en;q=0.2,ja;q=0.2'}\n"
     ]
    }
   ],
   "source": [
    "m.data_received(head)"
   ]
  },
  {
   "cell_type": "code",
   "execution_count": 6,
   "metadata": {},
   "outputs": [
    {
     "data": {
      "text/plain": [
       "{b'Accept': b'text/html,application/xhtml+xml,application/xml;q=0.9,image/webp,*/*;q=0.8',\n",
       " b'Accept-Encoding': b'gzip, deflate, sdch, br',\n",
       " b'Accept-Language': b'zh-CN,zh;q=0.8,zh-TW;q=0.6,fr;q=0.4,en;q=0.2,ja;q=0.2',\n",
       " b'Cache-Control': b'max-age=0',\n",
       " b'Connection': b'keep-alive',\n",
       " b'Host': b'github.com',\n",
       " b'Upgrade-Insecure-Requests': b'1',\n",
       " b'User-Agent': b'Mozilla/5.0 (Macintosh; Intel Mac OS X 10_11_6) AppleWebKit/537.36 (KHTML, like Gecko) Chrome/58.0.3029.110 Safari/537.36'}"
      ]
     },
     "execution_count": 6,
     "metadata": {},
     "output_type": "execute_result"
    }
   ],
   "source": [
    "m.header"
   ]
  },
  {
   "cell_type": "code",
   "execution_count": 7,
   "metadata": {},
   "outputs": [
    {
     "data": {
      "text/plain": [
       "'1.1'"
      ]
     },
     "execution_count": 7,
     "metadata": {},
     "output_type": "execute_result"
    }
   ],
   "source": [
    "m.parser.get_http_version()"
   ]
  },
  {
   "cell_type": "code",
   "execution_count": 8,
   "metadata": {},
   "outputs": [
    {
     "data": {
      "text/plain": [
       "b'GET'"
      ]
     },
     "execution_count": 8,
     "metadata": {},
     "output_type": "execute_result"
    }
   ],
   "source": [
    "m.parser.get_method()"
   ]
  }
 ],
 "metadata": {
  "kernelspec": {
   "display_name": "Python 3",
   "language": "python",
   "name": "python3"
  },
  "language_info": {
   "codemirror_mode": {
    "name": "ipython",
    "version": 3
   },
   "file_extension": ".py",
   "mimetype": "text/x-python",
   "name": "python",
   "nbconvert_exporter": "python",
   "pygments_lexer": "ipython3",
   "version": "3.7.2"
  }
 },
 "nbformat": 4,
 "nbformat_minor": 2
}
